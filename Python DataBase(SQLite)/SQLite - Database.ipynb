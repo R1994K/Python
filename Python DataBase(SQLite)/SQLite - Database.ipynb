{
 "cells": [
  {
   "cell_type": "code",
   "execution_count": 1,
   "metadata": {},
   "outputs": [],
   "source": [
    "import sqlite3"
   ]
  },
  {
   "cell_type": "code",
   "execution_count": 2,
   "metadata": {},
   "outputs": [
    {
     "name": "stdout",
     "output_type": "stream",
     "text": [
      "Opened database successfully\n"
     ]
    }
   ],
   "source": [
    "conn = sqlite3.connect('demo.db')  \n",
    "  \n",
    "print(\"Opened database successfully\");  "
   ]
  },
  {
   "cell_type": "markdown",
   "metadata": {},
   "source": [
    "### Create a table"
   ]
  },
  {
   "cell_type": "code",
   "execution_count": 3,
   "metadata": {},
   "outputs": [
    {
     "name": "stdout",
     "output_type": "stream",
     "text": [
      "Table created successfully\n"
     ]
    }
   ],
   "source": [
    "conn.execute('''CREATE TABLE Employees \n",
    "       (ID INT PRIMARY KEY     NOT NULL, \n",
    "       NAME           TEXT    NOT NULL, \n",
    "       AGE            INT     NOT NULL, \n",
    "       ADDRESS        CHAR(50), \n",
    "       SALARY         REAL);''')  \n",
    "print (\"Table created successfully\");  "
   ]
  },
  {
   "cell_type": "code",
   "execution_count": 4,
   "metadata": {},
   "outputs": [],
   "source": [
    "conn.close()  "
   ]
  },
  {
   "cell_type": "markdown",
   "metadata": {},
   "source": [
    "### Insert Records"
   ]
  },
  {
   "cell_type": "code",
   "execution_count": 5,
   "metadata": {},
   "outputs": [
    {
     "name": "stdout",
     "output_type": "stream",
     "text": [
      "Opened database successfully\n",
      "Records inserted successfully\n"
     ]
    }
   ],
   "source": [
    "conn = sqlite3.connect('new.db')  \n",
    "print (\"Opened database successfully\");  \n",
    "  \n",
    "conn.execute(\"INSERT INTO Employees (ID,NAME,AGE,ADDRESS,SALARY) VALUES (1, 'RK', 25, 'Ahmedabad', 45000.00 )\");  \n",
    "  \n",
    "conn.execute(\"INSERT INTO Employees (ID,NAME,AGE,ADDRESS,SALARY) VALUES (2, 'Mansi', 22, 'Pune', 25000.00 )\");  \n",
    "  \n",
    "conn.execute(\"INSERT INTO Employees (ID,NAME,AGE,ADDRESS,SALARY) VALUES (3, 'Mayur', 29, 'Rajkot', 200000.00 )\");  \n",
    "  \n",
    "conn.execute(\"INSERT INTO Employees (ID,NAME,AGE,ADDRESS,SALARY) VALUES (4, 'Abhay', 22, 'Dhoraji', 65000.00 )\");\n",
    "\n",
    "conn.commit()  \n",
    "print (\"Records inserted successfully\");  \n",
    "conn.close()  "
   ]
  },
  {
   "cell_type": "markdown",
   "metadata": {},
   "source": [
    "### Select Records"
   ]
  },
  {
   "cell_type": "code",
   "execution_count": 6,
   "metadata": {},
   "outputs": [
    {
     "name": "stdout",
     "output_type": "stream",
     "text": [
      "ID =  1\n",
      "NAME =  RK\n",
      "AGE =  25\n",
      "ADDRESS =  Ahmedabad\n",
      "SALARY =  45000.0 \n",
      "\n",
      "ID =  2\n",
      "NAME =  Mansi\n",
      "AGE =  22\n",
      "ADDRESS =  Pune\n",
      "SALARY =  25000.0 \n",
      "\n",
      "ID =  3\n",
      "NAME =  Mayur\n",
      "AGE =  29\n",
      "ADDRESS =  Rajkot\n",
      "SALARY =  200000.0 \n",
      "\n",
      "ID =  4\n",
      "NAME =  Abhay\n",
      "AGE =  22\n",
      "ADDRESS =  Dhoraji\n",
      "SALARY =  65000.0 \n",
      "\n"
     ]
    }
   ],
   "source": [
    "conn = sqlite3.connect('new.db')  \n",
    "  \n",
    "data = conn.execute(\"select * from Employees\");  \n",
    "  \n",
    "for row in data:  \n",
    "    print (\"ID = \", row[0])  \n",
    "    print (\"NAME = \", row[1])  \n",
    "    print (\"AGE = \", row[2])\n",
    "    print (\"ADDRESS = \", row[3])  \n",
    "    print (\"SALARY = \", row[4], \"\\n\")  \n",
    "  \n",
    "conn.close();  "
   ]
  },
  {
   "cell_type": "markdown",
   "metadata": {},
   "source": [
    "### Update Records"
   ]
  },
  {
   "cell_type": "code",
   "execution_count": 10,
   "metadata": {},
   "outputs": [
    {
     "name": "stdout",
     "output_type": "stream",
     "text": [
      "ID =  1\n",
      "NAME =  RK\n",
      "AGE =  25\n",
      "ADDRESS =  Ahmedabad\n",
      "SALARY =  45000.0 \n",
      "\n",
      "ID =  2\n",
      "NAME =  Mansi\n",
      "AGE =  22\n",
      "ADDRESS =  Pune\n",
      "SALARY =  25000.0 \n",
      "\n",
      "ID =  3\n",
      "NAME =  Mayur\n",
      "AGE =  29\n",
      "ADDRESS =  Rajkot\n",
      "SALARY =  200000.0 \n",
      "\n",
      "ID =  4\n",
      "NAME =  Abhay\n",
      "AGE =  22\n",
      "ADDRESS =  Dhoraji\n",
      "SALARY =  50000.0 \n",
      "\n"
     ]
    }
   ],
   "source": [
    "# UPDATE table_name  \n",
    "# SET column1 = value1, column2 = value2...., columnN = valueN  \n",
    "# WHERE [condition]; \n",
    "\n",
    "conn = sqlite3.connect('new.db')  \n",
    "  \n",
    "data = conn.execute(\"UPDATE Employees SET SALARY  = 50000 WHERE ID = 4;   \");  \n",
    "  \n",
    "data = conn.execute(\"select * from Employees\");  \n",
    "\n",
    "\n",
    "for row in data:  \n",
    "    print (\"ID = \", row[0])  \n",
    "    print (\"NAME = \", row[1])  \n",
    "    print (\"AGE = \", row[2])\n",
    "    print (\"ADDRESS = \", row[3])  \n",
    "    print (\"SALARY = \", row[4], \"\\n\")  \n",
    "  \n",
    "conn.close();  "
   ]
  },
  {
   "cell_type": "markdown",
   "metadata": {},
   "source": [
    "### Delete Records"
   ]
  },
  {
   "cell_type": "code",
   "execution_count": 12,
   "metadata": {},
   "outputs": [
    {
     "name": "stdout",
     "output_type": "stream",
     "text": [
      "ID =  1\n",
      "NAME =  RK\n",
      "AGE =  25\n",
      "ADDRESS =  Ahmedabad\n",
      "SALARY =  45000.0 \n",
      "\n",
      "ID =  2\n",
      "NAME =  Mansi\n",
      "AGE =  22\n",
      "ADDRESS =  Pune\n",
      "SALARY =  25000.0 \n",
      "\n",
      "ID =  4\n",
      "NAME =  Abhay\n",
      "AGE =  22\n",
      "ADDRESS =  Dhoraji\n",
      "SALARY =  65000.0 \n",
      "\n"
     ]
    }
   ],
   "source": [
    "# DELETE FROM table_name  \n",
    "# WHERE [conditions....................];; \n",
    "\n",
    "conn = sqlite3.connect('new.db')  \n",
    "  \n",
    "data = conn.execute(\"DELETE FROM Employees WHERE ID = 3; \");  \n",
    "  \n",
    "data = conn.execute(\"select * from Employees\");  \n",
    "\n",
    "\n",
    "for row in data:  \n",
    "    print (\"ID = \", row[0])  \n",
    "    print (\"NAME = \", row[1])  \n",
    "    print (\"AGE = \", row[2])\n",
    "    print (\"ADDRESS = \", row[3])  \n",
    "    print (\"SALARY = \", row[4], \"\\n\")  \n",
    "  \n",
    "conn.close();  "
   ]
  },
  {
   "cell_type": "markdown",
   "metadata": {},
   "source": [
    "### Dop Table"
   ]
  },
  {
   "cell_type": "code",
   "execution_count": 13,
   "metadata": {},
   "outputs": [
    {
     "ename": "OperationalError",
     "evalue": "no such table: Employees",
     "output_type": "error",
     "traceback": [
      "\u001b[1;31m---------------------------------------------------------------------------\u001b[0m",
      "\u001b[1;31mOperationalError\u001b[0m                          Traceback (most recent call last)",
      "\u001b[1;32m<ipython-input-13-9ee57be92062>\u001b[0m in \u001b[0;36m<module>\u001b[1;34m\u001b[0m\n\u001b[0;32m      6\u001b[0m \u001b[0mdata\u001b[0m \u001b[1;33m=\u001b[0m \u001b[0mconn\u001b[0m\u001b[1;33m.\u001b[0m\u001b[0mexecute\u001b[0m\u001b[1;33m(\u001b[0m\u001b[1;34m\"DROP TABLE Employees; \"\u001b[0m\u001b[1;33m)\u001b[0m\u001b[1;33m;\u001b[0m\u001b[1;33m\u001b[0m\u001b[1;33m\u001b[0m\u001b[0m\n\u001b[0;32m      7\u001b[0m \u001b[1;33m\u001b[0m\u001b[0m\n\u001b[1;32m----> 8\u001b[1;33m \u001b[0mdata\u001b[0m \u001b[1;33m=\u001b[0m \u001b[0mconn\u001b[0m\u001b[1;33m.\u001b[0m\u001b[0mexecute\u001b[0m\u001b[1;33m(\u001b[0m\u001b[1;34m\"select * from Employees\"\u001b[0m\u001b[1;33m)\u001b[0m\u001b[1;33m;\u001b[0m\u001b[1;33m\u001b[0m\u001b[1;33m\u001b[0m\u001b[0m\n\u001b[0m\u001b[0;32m      9\u001b[0m \u001b[1;33m\u001b[0m\u001b[0m\n\u001b[0;32m     10\u001b[0m \u001b[1;33m\u001b[0m\u001b[0m\n",
      "\u001b[1;31mOperationalError\u001b[0m: no such table: Employees"
     ]
    }
   ],
   "source": [
    "# DROP TABLE database_name.table_name;   \n",
    "\n",
    "\n",
    "conn = sqlite3.connect('new.db')  \n",
    "  \n",
    "data = conn.execute(\"DROP TABLE Employees; \");  \n",
    "  \n",
    "data = conn.execute(\"select * from Employees\");  \n",
    "\n",
    "\n",
    "for row in data:  \n",
    "    print (\"ID = \", row[0])  \n",
    "    print (\"NAME = \", row[1])  \n",
    "    print (\"AGE = \", row[2])\n",
    "    print (\"ADDRESS = \", row[3])  \n",
    "    print (\"SALARY = \", row[4], \"\\n\")  \n",
    "  \n",
    "conn.close();  "
   ]
  },
  {
   "cell_type": "markdown",
   "metadata": {},
   "source": [
    "**https://www.javatpoint.com/python-sqlite**"
   ]
  },
  {
   "cell_type": "markdown",
   "metadata": {},
   "source": [
    "**RAJKUMAR ZALAVADIA - Mo: 7041645834 Email : rajzalavadia50@gmail.com**"
   ]
  },
  {
   "cell_type": "code",
   "execution_count": null,
   "metadata": {},
   "outputs": [],
   "source": []
  }
 ],
 "metadata": {
  "kernelspec": {
   "display_name": "Python 3",
   "language": "python",
   "name": "python3"
  },
  "language_info": {
   "codemirror_mode": {
    "name": "ipython",
    "version": 3
   },
   "file_extension": ".py",
   "mimetype": "text/x-python",
   "name": "python",
   "nbconvert_exporter": "python",
   "pygments_lexer": "ipython3",
   "version": "3.7.3"
  }
 },
 "nbformat": 4,
 "nbformat_minor": 2
}
